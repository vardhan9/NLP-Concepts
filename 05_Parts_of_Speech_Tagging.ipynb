{
 "cells": [
  {
   "cell_type": "markdown",
   "metadata": {},
   "source": [
    "# Parts of Speech Tagging POS"
   ]
  },
  {
   "cell_type": "markdown",
   "metadata": {},
   "source": [
    "Dr APJ Abdul Kalam Sir's Speech"
   ]
  },
  {
   "cell_type": "code",
   "execution_count": 1,
   "metadata": {},
   "outputs": [],
   "source": [
    "paragraph = \"\"\"\"I have three visions for India. In 3000 years of our history people from all over the world have come and invaded us, captured our lands, conquered our minds. From Alexander onwards the Greeks, the Turks, the Moguls, the Portuguese, the British, the French, the Dutch, all of them came and looted us, took over what was ours. Yet we have not done this to any other nation. We have not conquered anyone. We have not grabbed their land, their culture and their history and tried to enforce our way of life on them. Why? Because we respect the freedom of others. That is why my FIRST VISION is that of FREEDOM. I believe that India got its first vision of this in 1857, when we started the war of Independence. It is this freedom that we must protect and nurture and build on. If we are not free, no one will respect us.\n",
    "\n",
    "We have 10 percent growth rate in most areas. Our poverty levels are falling. Our achievements are being globally recognised today. Yet we lack the self-confidence to see ourselves as a developed nation, self-reliant and self-assured. Isn’t this incorrect? MY SECOND VISION for India is DEVELOPMENT. For fifty years we have been a developing nation. It is time we see ourselves as a developed nation. We are among top five nations in the world in terms of GDP.\n",
    "\n",
    "I have a THIRD VISION. India must stand up to the world. Because I believe that unless India stands up to the world, no one will respect us. Only strength respects strength. We must be strong not only as a military power but also as an economic power. Both must go hand-in-hand. My good fortune was to have worked with three great minds. Dr.Vikram Sarabhai, of the Dept. of Space, Professor Satish Dhawan, who succeeded him and Dr. Brahm Prakash, father of nuclear material. I was lucky to have worked with all three of them closely and consider this the great opportunity of my life.\n",
    "\n",
    "I was in Hyderabad giving this lecture, when a 14 year-old girl asked me for my autograph. I asked her what her goal in life is. She replied: I want to live in a developed India. For her, you and I will have to build this developed India. You must proclaim India is not an underdeveloped nation; it is a highly developed nation.\n",
    "\n",
    "You say that our government is inefficient. You say that our laws are too old. You say that the municipality does not pick up the garbage. You say that the phones don’t work, the railways are a joke, the airline is the worst in the world, and mails never reach their destination. You say that our country has been fed to the dogs and is the absolute pits. You say, say and say. What do you do about it?\n",
    "\"\"\""
   ]
  },
  {
   "cell_type": "markdown",
   "metadata": {},
   "source": []
  },
  {
   "cell_type": "code",
   "execution_count": 1,
   "metadata": {},
   "outputs": [
    {
     "name": "stderr",
     "output_type": "stream",
     "text": [
      "[nltk_data] Downloading package averaged_perceptron_tagger to\n",
      "[nltk_data]     C:\\Users\\Raja Marthala\\AppData\\Roaming\\nltk_data...\n",
      "[nltk_data]   Package averaged_perceptron_tagger is already up-to-\n",
      "[nltk_data]       date!\n"
     ]
    },
    {
     "data": {
      "text/plain": [
       "True"
      ]
     },
     "execution_count": 1,
     "metadata": {},
     "output_type": "execute_result"
    }
   ],
   "source": [
    "import nltk\n",
    "from nltk.tokenize import  word_tokenize, sent_tokenize\n",
    "from nltk.corpus import stopwords\n",
    "nltk.download('averaged_perceptron_tagger')"
   ]
  },
  {
   "cell_type": "code",
   "execution_count": 23,
   "metadata": {},
   "outputs": [
    {
     "data": {
      "text/plain": [
       "['\"I have three visions for India.',\n",
       " 'In 3000 years of our history people from all over the world have come and invaded us, captured our lands, conquered our minds.',\n",
       " 'From Alexander onwards the Greeks, the Turks, the Moguls, the Portuguese, the British, the French, the Dutch, all of them came and looted us, took over what was ours.',\n",
       " 'Yet we have not done this to any other nation.',\n",
       " 'We have not conquered anyone.',\n",
       " 'We have not grabbed their land, their culture and their history and tried to enforce our way of life on them.',\n",
       " 'Why?',\n",
       " 'Because we respect the freedom of others.',\n",
       " 'That is why my FIRST VISION is that of FREEDOM.',\n",
       " 'I believe that India got its first vision of this in 1857, when we started the war of Independence.',\n",
       " 'It is this freedom that we must protect and nurture and build on.',\n",
       " 'If we are not free, no one will respect us.',\n",
       " 'We have 10 percent growth rate in most areas.',\n",
       " 'Our poverty levels are falling.',\n",
       " 'Our achievements are being globally recognised today.',\n",
       " 'Yet we lack the self-confidence to see ourselves as a developed nation, self-reliant and self-assured.',\n",
       " 'Isn’t this incorrect?',\n",
       " 'MY SECOND VISION for India is DEVELOPMENT.',\n",
       " 'For fifty years we have been a developing nation.',\n",
       " 'It is time we see ourselves as a developed nation.',\n",
       " 'We are among top five nations in the world in terms of GDP.',\n",
       " 'I have a THIRD VISION.',\n",
       " 'India must stand up to the world.',\n",
       " 'Because I believe that unless India stands up to the world, no one will respect us.',\n",
       " 'Only strength respects strength.',\n",
       " 'We must be strong not only as a military power but also as an economic power.',\n",
       " 'Both must go hand-in-hand.',\n",
       " 'My good fortune was to have worked with three great minds.',\n",
       " 'Dr.Vikram Sarabhai, of the Dept.',\n",
       " 'of Space, Professor Satish Dhawan, who succeeded him and Dr. Brahm Prakash, father of nuclear material.',\n",
       " 'I was lucky to have worked with all three of them closely and consider this the great opportunity of my life.',\n",
       " 'I was in Hyderabad giving this lecture, when a 14 year-old girl asked me for my autograph.',\n",
       " 'I asked her what her goal in life is.',\n",
       " 'She replied: I want to live in a developed India.',\n",
       " 'For her, you and I will have to build this developed India.',\n",
       " 'You must proclaim India is not an underdeveloped nation; it is a highly developed nation.',\n",
       " 'You say that our government is inefficient.',\n",
       " 'You say that our laws are too old.',\n",
       " 'You say that the municipality does not pick up the garbage.',\n",
       " 'You say that the phones don’t work, the railways are a joke, the airline is the worst in the world, and mails never reach their destination.',\n",
       " 'You say that our country has been fed to the dogs and is the absolute pits.',\n",
       " 'You say, say and say.',\n",
       " 'What do you do about it?']"
      ]
     },
     "execution_count": 23,
     "metadata": {},
     "output_type": "execute_result"
    }
   ],
   "source": [
    "sentences = nltk.sent_tokenize(paragraph)\n",
    "sentences"
   ]
  },
  {
   "cell_type": "code",
   "execution_count": 15,
   "metadata": {},
   "outputs": [
    {
     "name": "stderr",
     "output_type": "stream",
     "text": [
      "[nltk_data] Downloading package averaged_perceptron_tagger to\n",
      "[nltk_data]     C:\\Users\\Raja Marthala\\AppData\\Roaming\\nltk_data...\n",
      "[nltk_data]   Package averaged_perceptron_tagger is already up-to-\n",
      "[nltk_data]       date!\n"
     ]
    },
    {
     "data": {
      "text/plain": [
       "True"
      ]
     },
     "execution_count": 15,
     "metadata": {},
     "output_type": "execute_result"
    }
   ],
   "source": [
    "nltk.download('averaged_perceptron_tagger')"
   ]
  },
  {
   "cell_type": "code",
   "execution_count": 25,
   "metadata": {},
   "outputs": [
    {
     "data": {
      "text/plain": [
       "['\"I have three visions for India.',\n",
       " 'In 3000 years of our history people from all over the world have come and invaded us, captured our lands, conquered our minds.',\n",
       " 'From Alexander onwards the Greeks, the Turks, the Moguls, the Portuguese, the British, the French, the Dutch, all of them came and looted us, took over what was ours.',\n",
       " 'Yet we have not done this to any other nation.',\n",
       " 'We have not conquered anyone.',\n",
       " 'We have not grabbed their land, their culture and their history and tried to enforce our way of life on them.',\n",
       " 'Why?',\n",
       " 'Because we respect the freedom of others.',\n",
       " 'That is why my FIRST VISION is that of FREEDOM.',\n",
       " 'I believe that India got its first vision of this in 1857, when we started the war of Independence.',\n",
       " 'It is this freedom that we must protect and nurture and build on.',\n",
       " 'If we are not free, no one will respect us.',\n",
       " 'We have 10 percent growth rate in most areas.',\n",
       " 'Our poverty levels are falling.',\n",
       " 'Our achievements are being globally recognised today.',\n",
       " 'Yet we lack the self-confidence to see ourselves as a developed nation, self-reliant and self-assured.',\n",
       " 'Isn’t this incorrect?',\n",
       " 'MY SECOND VISION for India is DEVELOPMENT.',\n",
       " 'For fifty years we have been a developing nation.',\n",
       " 'It is time we see ourselves as a developed nation.',\n",
       " 'We are among top five nations in the world in terms of GDP.',\n",
       " 'I have a THIRD VISION.',\n",
       " 'India must stand up to the world.',\n",
       " 'Because I believe that unless India stands up to the world, no one will respect us.',\n",
       " 'Only strength respects strength.',\n",
       " 'We must be strong not only as a military power but also as an economic power.',\n",
       " 'Both must go hand-in-hand.',\n",
       " 'My good fortune was to have worked with three great minds.',\n",
       " 'Dr.Vikram Sarabhai, of the Dept.',\n",
       " 'of Space, Professor Satish Dhawan, who succeeded him and Dr. Brahm Prakash, father of nuclear material.',\n",
       " 'I was lucky to have worked with all three of them closely and consider this the great opportunity of my life.',\n",
       " 'I was in Hyderabad giving this lecture, when a 14 year-old girl asked me for my autograph.',\n",
       " 'I asked her what her goal in life is.',\n",
       " 'She replied: I want to live in a developed India.',\n",
       " 'For her, you and I will have to build this developed India.',\n",
       " 'You must proclaim India is not an underdeveloped nation; it is a highly developed nation.',\n",
       " 'You say that our government is inefficient.',\n",
       " 'You say that our laws are too old.',\n",
       " 'You say that the municipality does not pick up the garbage.',\n",
       " 'You say that the phones don’t work, the railways are a joke, the airline is the worst in the world, and mails never reach their destination.',\n",
       " 'You say that our country has been fed to the dogs and is the absolute pits.',\n",
       " 'You say, say and say.',\n",
       " 'What do you do about it?']"
      ]
     },
     "execution_count": 25,
     "metadata": {},
     "output_type": "execute_result"
    }
   ],
   "source": [
    "sentences"
   ]
  },
  {
   "cell_type": "code",
   "execution_count": 29,
   "metadata": {},
   "outputs": [
    {
     "name": "stdout",
     "output_type": "stream",
     "text": [
      "[('``', '``'), ('I', 'PRP'), ('three', 'CD'), ('visions', 'NNS'), ('India', 'NNP'), ('.', '.')]\n",
      "[('In', 'IN'), ('3000', 'CD'), ('years', 'NNS'), ('history', 'NN'), ('people', 'NNS'), ('world', 'NN'), ('come', 'VBP'), ('invaded', 'VBN'), ('us', 'PRP'), (',', ','), ('captured', 'VBD'), ('lands', 'NNS'), (',', ','), ('conquered', 'VBD'), ('minds', 'NNS'), ('.', '.')]\n",
      "[('From', 'IN'), ('Alexander', 'NNP'), ('onwards', 'NNS'), ('Greeks', 'NNP'), (',', ','), ('Turks', 'NNP'), (',', ','), ('Moguls', 'NNP'), (',', ','), ('Portuguese', 'NNP'), (',', ','), ('British', 'NNP'), (',', ','), ('French', 'NNP'), (',', ','), ('Dutch', 'NNP'), (',', ','), ('came', 'VBD'), ('looted', 'JJ'), ('us', 'PRP'), (',', ','), ('took', 'VBD'), ('.', '.')]\n",
      "[('Yet', 'RB'), ('done', 'VBN'), ('nation', 'NN'), ('.', '.')]\n",
      "[('We', 'PRP'), ('conquered', 'VBD'), ('anyone', 'NN'), ('.', '.')]\n",
      "[('We', 'PRP'), ('grabbed', 'VBD'), ('land', 'NN'), (',', ','), ('culture', 'NN'), ('history', 'NN'), ('tried', 'VBD'), ('enforce', 'JJ'), ('way', 'NN'), ('life', 'NN'), ('.', '.')]\n",
      "[('Why', 'WRB'), ('?', '.')]\n",
      "[('Because', 'IN'), ('respect', 'NN'), ('freedom', 'NN'), ('others', 'NNS'), ('.', '.')]\n",
      "[('That', 'DT'), ('FIRST', 'NNP'), ('VISION', 'NNP'), ('FREEDOM', 'NNP'), ('.', '.')]\n",
      "[('I', 'PRP'), ('believe', 'VBP'), ('India', 'NNP'), ('got', 'VBD'), ('first', 'JJ'), ('vision', 'NN'), ('1857', 'CD'), (',', ','), ('started', 'VBD'), ('war', 'NN'), ('Independence', 'NN'), ('.', '.')]\n",
      "[('It', 'PRP'), ('freedom', 'NN'), ('must', 'MD'), ('protect', 'VB'), ('nurture', 'NN'), ('build', 'NN'), ('.', '.')]\n",
      "[('If', 'IN'), ('free', 'JJ'), (',', ','), ('one', 'CD'), ('respect', 'NN'), ('us', 'PRP'), ('.', '.')]\n",
      "[('We', 'PRP'), ('10', 'CD'), ('percent', 'JJ'), ('growth', 'NN'), ('rate', 'NN'), ('areas', 'NNS'), ('.', '.')]\n",
      "[('Our', 'PRP$'), ('poverty', 'NN'), ('levels', 'NNS'), ('falling', 'VBG'), ('.', '.')]\n",
      "[('Our', 'PRP$'), ('achievements', 'NNS'), ('globally', 'RB'), ('recognised', 'VBN'), ('today', 'NN'), ('.', '.')]\n",
      "[('Yet', 'RB'), ('lack', 'JJ'), ('self-confidence', 'NN'), ('see', 'NN'), ('developed', 'JJ'), ('nation', 'NN'), (',', ','), ('self-reliant', 'JJ'), ('self-assured', 'JJ'), ('.', '.')]\n",
      "[('Isn', 'NNP'), ('’', 'NNP'), ('incorrect', 'NN'), ('?', '.')]\n",
      "[('MY', 'PRP$'), ('SECOND', 'JJ'), ('VISION', 'NNP'), ('India', 'NNP'), ('DEVELOPMENT', 'NNP'), ('.', '.')]\n",
      "[('For', 'IN'), ('fifty', 'JJ'), ('years', 'NNS'), ('developing', 'VBG'), ('nation', 'NN'), ('.', '.')]\n",
      "[('It', 'PRP'), ('time', 'NN'), ('see', 'VB'), ('developed', 'JJ'), ('nation', 'NN'), ('.', '.')]\n",
      "[('We', 'PRP'), ('among', 'IN'), ('top', 'JJ'), ('five', 'CD'), ('nations', 'NNS'), ('world', 'NN'), ('terms', 'NNS'), ('GDP', 'NNP'), ('.', '.')]\n",
      "[('I', 'PRP'), ('THIRD', 'VBP'), ('VISION', 'NNP'), ('.', '.')]\n",
      "[('India', 'NNP'), ('must', 'MD'), ('stand', 'VB'), ('world', 'NN'), ('.', '.')]\n",
      "[('Because', 'IN'), ('I', 'PRP'), ('believe', 'VBP'), ('unless', 'IN'), ('India', 'NNP'), ('stands', 'VBZ'), ('world', 'NN'), (',', ','), ('one', 'CD'), ('respect', 'NN'), ('us', 'PRP'), ('.', '.')]\n",
      "[('Only', 'RB'), ('strength', 'NN'), ('respects', 'NNS'), ('strength', 'NN'), ('.', '.')]\n",
      "[('We', 'PRP'), ('must', 'MD'), ('strong', 'JJ'), ('military', 'JJ'), ('power', 'NN'), ('also', 'RB'), ('economic', 'JJ'), ('power', 'NN'), ('.', '.')]\n",
      "[('Both', 'DT'), ('must', 'MD'), ('go', 'VB'), ('hand-in-hand', 'NN'), ('.', '.')]\n",
      "[('My', 'PRP$'), ('good', 'JJ'), ('fortune', 'NN'), ('worked', 'VBD'), ('three', 'CD'), ('great', 'JJ'), ('minds', 'NNS'), ('.', '.')]\n",
      "[('Dr.Vikram', 'NNP'), ('Sarabhai', 'NNP'), (',', ','), ('Dept', 'NNP'), ('.', '.')]\n",
      "[('Space', 'NNP'), (',', ','), ('Professor', 'NNP'), ('Satish', 'NNP'), ('Dhawan', 'NNP'), (',', ','), ('succeeded', 'VBD'), ('Dr.', 'NNP'), ('Brahm', 'NNP'), ('Prakash', 'NNP'), (',', ','), ('father', 'RB'), ('nuclear', 'JJ'), ('material', 'NN'), ('.', '.')]\n",
      "[('I', 'PRP'), ('lucky', 'VBP'), ('worked', 'VBD'), ('three', 'CD'), ('closely', 'RB'), ('consider', 'VBP'), ('great', 'JJ'), ('opportunity', 'NN'), ('life', 'NN'), ('.', '.')]\n",
      "[('I', 'PRP'), ('Hyderabad', 'VBP'), ('giving', 'VBG'), ('lecture', 'NN'), (',', ','), ('14', 'CD'), ('year-old', 'JJ'), ('girl', 'NN'), ('asked', 'VBD'), ('autograph', 'NN'), ('.', '.')]\n",
      "[('I', 'PRP'), ('asked', 'VBD'), ('goal', 'NN'), ('life', 'NN'), ('.', '.')]\n",
      "[('She', 'PRP'), ('replied', 'VBD'), (':', ':'), ('I', 'PRP'), ('want', 'VBP'), ('live', 'JJ'), ('developed', 'VBN'), ('India', 'NNP'), ('.', '.')]\n",
      "[('For', 'IN'), (',', ','), ('I', 'PRP'), ('build', 'VBP'), ('developed', 'JJ'), ('India', 'NNP'), ('.', '.')]\n",
      "[('You', 'PRP'), ('must', 'MD'), ('proclaim', 'VB'), ('India', 'NNP'), ('underdeveloped', 'JJ'), ('nation', 'NN'), (';', ':'), ('highly', 'RB'), ('developed', 'JJ'), ('nation', 'NN'), ('.', '.')]\n",
      "[('You', 'PRP'), ('say', 'VBP'), ('government', 'NN'), ('inefficient', 'NN'), ('.', '.')]\n",
      "[('You', 'PRP'), ('say', 'VBP'), ('laws', 'NNS'), ('old', 'JJ'), ('.', '.')]\n",
      "[('You', 'PRP'), ('say', 'VBP'), ('municipality', 'JJ'), ('pick', 'JJ'), ('garbage', 'NN'), ('.', '.')]\n",
      "[('You', 'PRP'), ('say', 'VBP'), ('phones', 'NNS'), ('’', 'NNP'), ('work', 'NN'), (',', ','), ('railways', 'NNS'), ('joke', 'VBD'), (',', ','), ('airline', 'NN'), ('worst', 'JJS'), ('world', 'NN'), (',', ','), ('mails', 'NNS'), ('never', 'RB'), ('reach', 'VBP'), ('destination', 'NN'), ('.', '.')]\n",
      "[('You', 'PRP'), ('say', 'VBP'), ('country', 'NN'), ('fed', 'VBD'), ('dogs', 'NNS'), ('absolute', 'JJ'), ('pits', 'NNS'), ('.', '.')]\n",
      "[('You', 'PRP'), ('say', 'VBP'), (',', ','), ('say', 'VBP'), ('say', 'UH'), ('.', '.')]\n",
      "[('What', 'WP'), ('?', '.')]\n"
     ]
    }
   ],
   "source": [
    "## Applying word tokenzie, stops words and extracting pos tag\n",
    "\n",
    "for i in range(len(sentences)):\n",
    "    words = nltk.word_tokenize(sentences[i])\n",
    "    words = [word for word in words if word not in set(stopwords.words('english'))]\n",
    "    pos_tag = nltk.pos_tag(words)\n",
    "\n",
    "    print(pos_tag)"
   ]
  },
  {
   "cell_type": "code",
   "execution_count": 30,
   "metadata": {},
   "outputs": [
    {
     "data": {
      "text/plain": [
       "['India', 'is', 'a', 'incredible', 'country']"
      ]
     },
     "execution_count": 30,
     "metadata": {},
     "output_type": "execute_result"
    }
   ],
   "source": [
    "\"India is a incredible country\".split()"
   ]
  },
  {
   "cell_type": "code",
   "execution_count": 2,
   "metadata": {},
   "outputs": [
    {
     "data": {
      "text/plain": [
       "[('India', 'NNP'),\n",
       " ('is', 'VBZ'),\n",
       " ('a', 'DT'),\n",
       " ('incredible', 'JJ'),\n",
       " ('country', 'NN')]"
      ]
     },
     "execution_count": 2,
     "metadata": {},
     "output_type": "execute_result"
    }
   ],
   "source": [
    "nltk.pos_tag(\"India is a incredible country\".split())"
   ]
  },
  {
   "cell_type": "code",
   "execution_count": null,
   "metadata": {},
   "outputs": [],
   "source": []
  }
 ],
 "metadata": {
  "kernelspec": {
   "display_name": "Python 3",
   "language": "python",
   "name": "python3"
  },
  "language_info": {
   "codemirror_mode": {
    "name": "ipython",
    "version": 3
   },
   "file_extension": ".py",
   "mimetype": "text/x-python",
   "name": "python",
   "nbconvert_exporter": "python",
   "pygments_lexer": "ipython3",
   "version": "3.11.0"
  }
 },
 "nbformat": 4,
 "nbformat_minor": 2
}
